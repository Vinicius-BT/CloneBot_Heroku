{
  "cells": [
    {
      "cell_type": "markdown",
      "metadata": {
        "id": "view-in-github",
        "colab_type": "text"
      },
      "source": [
        "<a href=\"https://colab.research.google.com/github/Vinicius-BT/CloneBot_Heroku/blob/main/Jdownload.ipynb\" target=\"_parent\"><img src=\"https://colab.research.google.com/assets/colab-badge.svg\" alt=\"Open In Colab\"/></a>"
      ]
    },
    {
      "cell_type": "markdown",
      "metadata": {
        "id": "8uUbyNZHi8a5"
      },
      "source": [
        "# <img src='https://szyha.github.io/RcloneLabArchive/img/title_jdownloader.png' height=\"45\" alt=\"JDownloader\"/>"
      ]
    },
    {
      "cell_type": "code",
      "execution_count": null,
      "metadata": {
        "cellView": "form",
        "colab": {
          "background_save": true
        },
        "id": "Mfg4A3KRjESb"
      },
      "outputs": [],
      "source": [
        "#@markdown <h3>⬅️ Execute essa célula para instalar o JDownloader</h3>\n",
        " \n",
        "import os, uuid, re, IPython\n",
        "import ipywidgets as widgets\n",
        " \n",
        "from glob import glob\n",
        "from IPython.display import HTML, clear_output\n",
        "from google.colab import output\n",
        " \n",
        "Email = widgets.Text(placeholder=\"*Required\", description=\"Email:\")\n",
        "Password = widgets.Text(placeholder=\"*Required\", description=\"Password:\")\n",
        "Device = widgets.Text(placeholder=\"Optional\", description=\"Name:\")\n",
        "SavePath = widgets.Dropdown(value=\"/content\", options=[\"/content\", \"/content/Downloads\"], description=\"Save Path:\")\n",
        " \n",
        "class MakeButton(object):\n",
        "  def __init__(self, title, callback, style):\n",
        "    self._title = title\n",
        "    self._callback = callback\n",
        "    self._style = style\n",
        "  def _repr_html_(self):\n",
        "    callback_id = 'button-' + str(uuid.uuid4())\n",
        "    output.register_callback(callback_id, self._callback)\n",
        "    if self._style != \"\":\n",
        "      style_html = \"p-Widget jupyter-widgets jupyter-button widget-button mod-\" + self._style\n",
        "    else:\n",
        "      style_html = \"p-Widget jupyter-widgets jupyter-button widget-button\"\n",
        "    template = \"\"\"<button class=\"{style_html}\" id=\"{callback_id}\">{title}</button>\n",
        "        <script>\n",
        "          document.querySelector(\"#{callback_id}\").onclick = (e) => {{\n",
        "            google.colab.kernel.invokeFunction('{callback_id}', [], {{}})\n",
        "            e.preventDefault();\n",
        "          }};\n",
        "        </script>\"\"\"\n",
        "    html = template.format(title=self._title, callback_id=callback_id, style_html=style_html)\n",
        "    return html\n",
        "  \n",
        "def MakeLabel(description, button_style):\n",
        "  return widgets.Button(description=description, disabled=True, button_style=button_style)\n",
        " \n",
        "def RefreshPath():\n",
        "  if os.path.exists(\"/content/drive/\"):\n",
        "    if os.path.exists(\"/content/drive/Shared drives/\"):\n",
        "      SavePath.options = [\"/content\", \"/content/Downloads\", \"/content/drive/My Drive\"] + glob(\"/content/drive/My Drive/*/\") + glob(\"/content/drive/Shared drives/*/\")\n",
        "    else:\n",
        "      SavePath.options = [\"/content\", \"/content/Downloads\", \"/content/drive/My Drive\"] + glob(\"/content/drive/My Drive/*/\")\n",
        "  else:\n",
        "    SavePath.options = [\"/content\", \"/content/Downloads\"]\n",
        " \n",
        "def LoginForm():\n",
        "  clear_output(wait=True)\n",
        "  Email.value = \"\"\n",
        "  Password.value = \"\"\n",
        "  Device.value = \"\"\n",
        "  RefreshPath()\n",
        "  display(HTML(\"<h3 style=\\\"font-family:Trebuchet MS;color:#4f8bd6;\\\">If you don't have an account yet, please register <a href=\\\"https://my.jdownloader.org/login.html#register\\\" target=\\\"_blank\\\">here</a>.</h3>\"), HTML(\"<br>\"), Email, Password, Device, SavePath, MakeButton(\"Refresh\", RefreshPath, \"\"))\n",
        "  if not os.path.exists(\"/content/drive/\"):\n",
        "    display(HTML(\"*If you want to save in Google Drive please run the cell below.\"))\n",
        "  display(HTML(\"<br>\"), MakeButton(\"Login\", CheckLogin, \"info\"))\n",
        "  if os.path.isfile(\"/root/.JDownloader/cfg/org.jdownloader.api.myjdownloader.MyJDownloaderSettings.json\"):\n",
        "    display(MakeButton(\"Cancel\", Show, \"danger\"))\n",
        "  \n",
        "def RestartForm():\n",
        "  clear_output(wait=True)\n",
        "  display(MakeLabel(\"Restart Confirm?\", \"\"), MakeButton(\"Confirm\", Restart, \"danger\"), MakeButton(\"Cancel\", Show, \"warning\"))\n",
        "  \n",
        "def ExitForm():\n",
        "  clear_output(wait=True)\n",
        "  display(MakeLabel(\"Exit Confirm?\", \"\"), MakeButton(\"Confirm\", Exit, \"danger\"), MakeButton(\"Cancel\", Show, \"warning\"))\n",
        " \n",
        "def CheckLogin():\n",
        "  try:\n",
        "    if not Email.value.strip():\n",
        "      ERROR = \"Email field is empty.\"\n",
        "      THROW_ERROR\n",
        "    if not \"@\" in Email.value and not \".\" in Email.value:\n",
        "      ERROR = \"Email is an incorrect format.\"\n",
        "      THROW_ERROR\n",
        "    if not Password.value.strip():\n",
        "      ERROR = \"Password field is empty.\"\n",
        "      THROW_ERROR\n",
        "    if not bool(re.match(\"^[a-zA-Z0-9]+$\", Device.value)) and Device.value.strip():\n",
        "      ERROR = \"Only alphanumeric are allowed for the device name.\"\n",
        "      THROW_ERROR\n",
        "    Login()\n",
        "  except:\n",
        "    print(ERROR)\n",
        " \n",
        "def Login():\n",
        "  clear_output(wait=True)\n",
        "  if SavePath.value == \"/content\":\n",
        "    get_ipython().system_raw(\"echo '{\\\"defaultdownloadfolder\\\" : \\\"/content\\\"}' > /root/.JDownloader/cfg/org.jdownloader.settings.GeneralSettings.json\")\n",
        "  elif SavePath.value == \"/content/Downloads\":\n",
        "    get_ipython().system_raw(\"mkdir -p -m 666 /content/Downloads\")\n",
        "    get_ipython().system_raw(\"echo '{\\\"defaultdownloadfolder\\\" : \\\"/content/Downloads\\\"}' > /root/.JDownloader/cfg/org.jdownloader.settings.GeneralSettings.json\")\n",
        "  else:\n",
        "    get_ipython().system_raw(\"echo '{\\\"defaultdownloadfolder\\\" : \\\"\" + SavePath.value + \"\\\"}' > /root/.JDownloader/cfg/org.jdownloader.settings.GeneralSettings.json\")\n",
        "  if Device.value.strip() == \"\":\n",
        "    Device.value = Email.value\n",
        "  get_ipython().system_raw(\"pkill -9 -e -f java\")\n",
        "  get_ipython().system_raw(\"echo '{\\\"email\\\" : \\\"'\" + Email.value + \"'\\\", \\\"password\\\" : \\\"'\" + Password.value + \"'\\\", \\\"devicename\\\" : \\\"'\" + Device.value + \"'\\\", \\\"directconnectmode\\\" : \\\"LAN\\\"}' > /root/.JDownloader/cfg/org.jdownloader.api.myjdownloader.MyJDownloaderSettings.json\")\n",
        "  get_ipython().system_raw(\"java -jar /root/.JDownloader/JDownloader.jar -norestart -noerr -r &\")\n",
        "  Show()\n",
        " \n",
        "def Restart():\n",
        "  get_ipython().system_raw(\"pkill -9 -e -f java\")\n",
        "  get_ipython().system_raw(\"java -jar /root/.JDownloader/JDownloader.jar -norestart -noerr -r &\")\n",
        "  Show()\n",
        "  \n",
        "def Exit():\n",
        "  get_ipython().system_raw(\"pkill -9 -e -f java\")\n",
        "  clear_output(wait=True)\n",
        "  display(MakeButton(\"Start\", Restart, \"info\"))\n",
        "  \n",
        "def Show():\n",
        "  clear_output(wait=True)\n",
        "  display(MakeLabel(\"Control Panel\", \"\"), HTML(\"<h3 style=\\\"font-family:Trebuchet MS;color:#4f8bd6;\\\">You can login to the WebUI by clicking <a href=\\\"https://my.jdownloader.org/\\\" target=\\\"_blank\\\">here</a>.</h3>\"), HTML(\"<h4 style=\\\"font-family:Trebuchet MS;color:#4f8bd6;\\\">If the server didn't showup in 30 sec. please re-login.</h4>\"), HTML(\"<br>\"), MakeButton(\"Re-Login\", LoginForm, \"info\"), MakeButton(\"Restart\", RestartForm, \"warning\"), MakeButton(\"Exit\", ExitForm, \"danger\"))\n",
        "  \n",
        "    \n",
        "if not os.path.isfile(\"/root/.JDownloader/JDownloader.jar\"):\n",
        "  clear_output(wait=True)\n",
        "  display(MakeLabel(\"Installing in Progress\", \"warning\"))\n",
        "  get_ipython().system_raw(\"rm -rf /content/sample_data/ && apt install openjdk-8-jre-headless -qq -y && mkdir -p -m 666 /root/.JDownloader/libs && wget -q http://installer.jdownloader.org/JDownloader.jar -O /root/.JDownloader/JDownloader.jar && java -jar /root/.JDownloader/JDownloader.jar -norestart -h && wget -q https://szyha.github.io/RcloneLabArchive/res/jdownloader/sevenzipjbinding1509.jar -O /root/.JDownloader/libs/sevenzipjbinding1509.jar && wget -q https://szyha.github.io/RcloneLabArchive/res/jdownloader/sevenzipjbinding1509Linux.jar -O /root/.JDownloader/libs/sevenzipjbinding1509Linux.jar\")\n",
        "  LoginForm()\n",
        "elif not os.path.isfile(\"/root/.JDownloader/cfg/org.jdownloader.api.myjdownloader.MyJDownloaderSettings.json\"):\n",
        "  LoginForm()\n",
        "else:  \n",
        "  Show()"
      ]
    },
    {
      "cell_type": "markdown",
      "metadata": {
        "id": "fy9WgLvs05Ty"
      },
      "source": [
        "## <font size='6'>Method 2</font>\n",
        "\n",
        "<font size=\"3\">(collapsible / expandable)</font>"
      ]
    },
    {
      "cell_type": "code",
      "execution_count": null,
      "metadata": {
        "colab": {
          "background_save": true,
          "base_uri": "https://localhost:8080/"
        },
        "id": "JJZoz_2mMCEw",
        "outputId": "dc2da72a-8dc7-4e79-b9bb-7c9d2abb4fb1",
        "cellView": "form"
      },
      "outputs": [
        {
          "output_type": "stream",
          "name": "stdout",
          "text": [
            "This cell has been running for 0 minute(s)...\n"
          ]
        }
      ],
      "source": [
        "# ==============================#============================== #\n",
        "# @markdown <font size=\"4\">Run this cell only if none of the above methods in Method 1 work at all.</font>\n",
        "# @markdown > If you want to run other cell, stop this first and then run it again if you need it.\n",
        "# ==============================#============================== #\n",
        "\n",
        "import time\n",
        "from IPython.display import clear_output\n",
        "\n",
        "\n",
        "def loop():\n",
        "    counter = 0\n",
        "    second = 60\n",
        "\n",
        "    while True:\n",
        "        clear_output()\n",
        "\n",
        "        print(f'This cell has been running for {counter} minute(s)...')\n",
        "\n",
        "        counter += 1\n",
        "        time.sleep(second)\n",
        "\n",
        "\n",
        "if __name__ == '__main__':\n",
        "    try:\n",
        "        loop()\n",
        "    except KeyboardInterrupt:\n",
        "        clear_output()\n",
        "        exit\n",
        "    else:\n",
        "        pass\n"
      ]
    }
  ],
  "metadata": {
    "colab": {
      "collapsed_sections": [],
      "name": "Jdownload.ipynb",
      "provenance": [],
      "mount_file_id": "14Fc1vWpNln8p396JS7RgB3znozlMAGvV",
      "authorship_tag": "ABX9TyMrD90KhPaXs/Wa1yx66i03",
      "include_colab_link": true
    },
    "kernelspec": {
      "display_name": "Python 3",
      "name": "python3"
    },
    "language_info": {
      "name": "python"
    }
  },
  "nbformat": 4,
  "nbformat_minor": 0
}